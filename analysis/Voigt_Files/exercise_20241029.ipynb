{
 "cells": [
  {
   "cell_type": "markdown",
   "id": "7d41920d-ccc6-4657-bacc-19006b87d7b8",
   "metadata": {},
   "source": [
    "# Example calculation of PV potential for ERA5 data\n",
    "\n",
    "I calculate for one year and derive monthly-mean values of PV potential. I compare two manners of parallelizing the work:\n",
    "\n",
    "1. multiprocessing with 1 process per file, hence 12 processes; each process uses dask-xarray under the hood and can hence use >100% CPU\n",
    "2. dask-xarray processing of 1 dataset with all 12 months"
   ]
  },
  {
   "cell_type": "code",
   "execution_count": 1,
   "id": "99875287-2b84-460f-9c90-2e2542ff4e9b",
   "metadata": {},
   "outputs": [],
   "source": [
    "import xarray as xr\n",
    "import numpy as np\n",
    "from pathlib import Path\n",
    "import matplotlib.pyplot as plt\n",
    "from multiprocessing import Process, Queue\n",
    "\n",
    "import core as core\n",
    "\n",
    "import warnings\n",
    "warnings.filterwarnings(\"ignore\")"
   ]
  },
  {
   "cell_type": "code",
   "execution_count": 2,
   "id": "1f4067af-2ee7-43f5-b43d-94739e229f5c",
   "metadata": {
    "editable": true,
    "slideshow": {
     "slide_type": ""
    },
    "tags": []
   },
   "outputs": [],
   "source": [
    "# location of era5 data on teachinghub\n",
    "path=\"/home/voigta80/LEHRE/msc-intro-comp-met-ex-w2024/data/era5/\""
   ]
  },
  {
   "cell_type": "markdown",
   "id": "e447b6c3-da76-4bf2-a417-2d957389ab73",
   "metadata": {},
   "source": [
    "## 1. Multiprocessing"
   ]
  },
  {
   "cell_type": "code",
   "execution_count": 3,
   "id": "973862f1-8afc-417c-a009-0864322bb95b",
   "metadata": {},
   "outputs": [],
   "source": [
    "# generate list of era5 files for a given year\n",
    "def get_filelists(year: str):\n",
    "    flist = list()\n",
    "    for file in Path(path).rglob(\"era5-\"+year+\"-*.nc\"):\n",
    "        flist.append(file)\n",
    "    return flist"
   ]
  },
  {
   "cell_type": "code",
   "execution_count": 4,
   "id": "83ae56d9-2577-4fee-9f2c-5ef80da798ec",
   "metadata": {},
   "outputs": [],
   "source": [
    "# function to compute time-mean pv potential, will be called by multiprocessing\n",
    "def batchcompute_pvpot(file, queue):\n",
    "    ds = xr.open_dataset(file, engine=\"netcdf4\", chunks={\"valid_time\":1e5} )\n",
    "    ds[\"wspd\"] = core.windspeed(ds)\n",
    "    pv_pot = core.pv_pot(ds).mean(\"valid_time\").compute()\n",
    "    queue.put(pv_pot)\n",
    "    return None"
   ]
  },
  {
   "cell_type": "code",
   "execution_count": 5,
   "id": "8456f917-6cad-4fd7-940b-d083bf15ac78",
   "metadata": {},
   "outputs": [],
   "source": [
    "nlat = 721;\n",
    "nlon = 1440;\n",
    "\n",
    "def multi_processing():\n",
    "    year= \"2000\"\n",
    "    flist = get_filelists(year)\n",
    "    # use 1 process per monthly file\n",
    "    nprocs = len(flist)\n",
    "    # output from each process\n",
    "    pvpot_chk = np.zeros((nprocs,nlat,nlon))\n",
    "    queue = Queue()\n",
    "    processes = [Process(target=batchcompute_pvpot, \n",
    "                         args=(flist[i], queue)) for i in range(0, nprocs)]\n",
    "    for process in processes: process.start() # start all processes\n",
    "    for i in range(nprocs): # collect results from processes\n",
    "        pvpot_chk[i] = queue.get()\n",
    "    for process in processes: process.join()  # wait for all processes to complete\n",
    "    # merge into yearly array\n",
    "    pvpot = np.stack(pvpot_chk, axis=0)"
   ]
  },
  {
   "cell_type": "code",
   "execution_count": 6,
   "id": "a2b43143-a8d2-4691-a7c9-aea6673cc231",
   "metadata": {},
   "outputs": [
    {
     "name": "stdout",
     "output_type": "stream",
     "text": [
      "Execution time: 78.37880 seconds\n"
     ]
    }
   ],
   "source": [
    "core.measure_performance(multi_processing)"
   ]
  },
  {
   "cell_type": "markdown",
   "id": "ee433aec-223e-445c-9040-70e86d1118e1",
   "metadata": {},
   "source": [
    "## 2. Dask-array on merged file"
   ]
  },
  {
   "cell_type": "code",
   "execution_count": 7,
   "id": "daf3daff-d39d-4a49-8c13-3ffba150a8b4",
   "metadata": {},
   "outputs": [],
   "source": [
    "def dask_xarray():\n",
    "    ds2=xr.open_mfdataset(path+\"era5-2000-*.nc\", chunks={\"valid_time\":1e5} )\n",
    "    ds2[\"wspd\"] = core.windspeed(ds2)\n",
    "    pvpot2 = core.pv_pot(ds2).groupby(ds2.valid_time.dt.month).mean(\"valid_time\").compute()"
   ]
  },
  {
   "cell_type": "code",
   "execution_count": 9,
   "id": "0be1428c-aeca-4678-82df-81666b2df90e",
   "metadata": {},
   "outputs": [
    {
     "name": "stdout",
     "output_type": "stream",
     "text": [
      "Execution time: 679.63075 seconds\n"
     ]
    }
   ],
   "source": [
    "core.measure_performance(dask_xarray)"
   ]
  }
 ],
 "metadata": {
  "kernelspec": {
   "display_name": "MagicPy",
   "language": "python",
   "name": "magicpy"
  },
  "language_info": {
   "codemirror_mode": {
    "name": "ipython",
    "version": 3
   },
   "file_extension": ".py",
   "mimetype": "text/x-python",
   "name": "python",
   "nbconvert_exporter": "python",
   "pygments_lexer": "ipython3",
   "version": "3.10.6"
  }
 },
 "nbformat": 4,
 "nbformat_minor": 5
}
