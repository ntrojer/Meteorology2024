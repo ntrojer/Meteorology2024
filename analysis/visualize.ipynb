{
 "cells": [
  {
   "cell_type": "code",
   "execution_count": null,
   "id": "49f4442e-40ef-4035-ad82-93029a098fec",
   "metadata": {},
   "outputs": [],
   "source": [
    "# BEFORE RUNNING\n",
    "# in terminal, do this:\n",
    "# export DISPLAY=0.0"
   ]
  },
  {
   "cell_type": "code",
   "execution_count": 6,
   "id": "ec94d3a8-221d-474b-b261-db8095b94113",
   "metadata": {},
   "outputs": [
    {
     "data": {
      "application/vnd.jupyter.widget-view+json": {
       "model_id": "1270ed792a0e41299a92a308e610f2cd",
       "version_major": 2,
       "version_minor": 0
      },
      "text/plain": [
       "interactive(children=(IntSlider(value=0, description='Month:', max=11), Output()), _dom_classes=('widget-inter…"
      ]
     },
     "metadata": {},
     "output_type": "display_data"
    },
    {
     "data": {
      "text/plain": [
       "<function __main__.update_image(index)>"
      ]
     },
     "execution_count": 6,
     "metadata": {},
     "output_type": "execute_result"
    }
   ],
   "source": [
    "from PIL import Image, ImageDraw, ImageFont\n",
    "import os\n",
    "import ipywidgets as widgets\n",
    "from IPython.display import display, Image as IPImage\n",
    "\n",
    "image_directory = \"/home/juliaf52/Meteorology2024/analysis/monthly_plots\"\n",
    "\n",
    "months = [\"January\", \"February\", \"March\", \"April\", \"May\", \"June\", \n",
    "          \"July\", \"August\", \"September\", \"October\", \"November\", \"December\"]\n",
    "\n",
    "image_files = sorted([os.path.join(image_directory, f) for f in os.listdir(image_directory) if f.endswith(\".png\")])\n",
    "\n",
    "images = []\n",
    "for i, img_path in enumerate(image_files):\n",
    "    img = Image.open(img_path)\n",
    "    draw = ImageDraw.Draw(img)\n",
    "\n",
    "    font = ImageFont.load_default()\n",
    "    text = months[i % len(months)]\n",
    "\n",
    "    bbox = draw.textbbox((0, 0), text, font=font)\n",
    "    text_width = bbox[2] - bbox[0]\n",
    "    text_height = bbox[3] - bbox[1]\n",
    "    position = (img.width // 2 - text_width // 2, 10)\n",
    "\n",
    "    draw.text(position, text, fill=\"black\", font=font)\n",
    "\n",
    "    images.append(img)\n",
    "\n",
    "def update_image(index):\n",
    "    display(images[index])\n",
    "\n",
    "slider = widgets.IntSlider(\n",
    "    value=0,\n",
    "    min=0,\n",
    "    max=len(images) - 1,\n",
    "    step=1,\n",
    "    description=\"Month:\"\n",
    ")\n",
    "\n",
    "widgets.interact(update_image, index=slider)\n"
   ]
  }
 ],
 "metadata": {
  "kernelspec": {
   "display_name": "Python 3 (ipykernel)",
   "language": "python",
   "name": "python3"
  },
  "language_info": {
   "codemirror_mode": {
    "name": "ipython",
    "version": 3
   },
   "file_extension": ".py",
   "mimetype": "text/x-python",
   "name": "python",
   "nbconvert_exporter": "python",
   "pygments_lexer": "ipython3",
   "version": "3.11.8"
  }
 },
 "nbformat": 4,
 "nbformat_minor": 5
}
